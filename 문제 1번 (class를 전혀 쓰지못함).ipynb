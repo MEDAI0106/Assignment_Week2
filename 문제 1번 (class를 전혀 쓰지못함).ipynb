{
 "cells": [
  {
   "cell_type": "markdown",
   "id": "personalized-midnight",
   "metadata": {},
   "source": [
    "#환자목록 + 중환자 표시"
   ]
  },
  {
   "cell_type": "code",
   "execution_count": 1,
   "id": "limited-zambia",
   "metadata": {},
   "outputs": [],
   "source": [
    "def Burn(name, age, percent) :\n",
    "    for i in range(1, 101):\n",
    "        dic = {name:i}\n",
    "    if int(percent) >= 20 :\n",
    "        bad = \"중환자\"\n",
    "    else :\n",
    "        bad = \"\"\n",
    "    return print(dic[name], name, age, percent, \"%\", bad)"
   ]
  },
  {
   "cell_type": "code",
   "execution_count": 2,
   "id": "european-device",
   "metadata": {
    "scrolled": true
   },
   "outputs": [
    {
     "name": "stdout",
     "output_type": "stream",
     "text": [
      "no. 이름 나이 범위 비고\n",
      "100 김하나 21 11 % \n",
      "100 이두리 25 40 % 중환자\n",
      "100 박석삼 26 16 % \n",
      "100 최사나 35 23 % 중환자\n",
      "100 한오름 45 5 % \n"
     ]
    }
   ],
   "source": [
    "print(\"no. 이름 나이 범위 비고\")\n",
    "Burn(\"김하나\", 21, 11)\n",
    "Burn(\"이두리\", 25, 40)\n",
    "Burn(\"박석삼\", 26, 16)\n",
    "Burn(\"최사나\", 35, 23)\n",
    "Burn(\"한오름\", 45, 5)"
   ]
  },
  {
   "cell_type": "markdown",
   "id": "green-issue",
   "metadata": {},
   "source": [
    "****왜 위에 no.가 100만 나오는지 모르겠다?\n",
    "for i in range(1, 101):\n",
    "        dic = {name:i} 이런식으로 하면 no.이 1부터 차곡올라가던데,\n",
    "def 넣고 하니까 안된다 ㅠ 왤까?\n",
    "\n",
    "#병상배치"
   ]
  },
  {
   "cell_type": "code",
   "execution_count": 3,
   "id": "distinct-vegetation",
   "metadata": {},
   "outputs": [],
   "source": [
    "import random #랜덤추출 해주는 모듈 삽입!\n",
    "rnum = random.randint(1, 100) #1부터 100중 무작위 추출\n",
    "def assign(name, percent) :\n",
    "    if percent >= 20 :\n",
    "        print(\"%s 환자에게 %d 번 병상을 배정해주세요.\" %(name, rnum))\n",
    "    else : \n",
    "        print(\"%s 환자는 입원이 필요하지 않습니다.\" % name) "
   ]
  },
  {
   "cell_type": "code",
   "execution_count": 4,
   "id": "manufactured-incentive",
   "metadata": {
    "scrolled": false
   },
   "outputs": [
    {
     "name": "stdout",
     "output_type": "stream",
     "text": [
      "이두리 환자에게 10 번 병상을 배정해주세요.\n",
      "박석삼 환자는 입원이 필요하지 않습니다.\n"
     ]
    }
   ],
   "source": [
    "assign(\"이두리\", 40)\n",
    "assign(\"박석삼\", 16)"
   ]
  },
  {
   "cell_type": "markdown",
   "id": "caring-teach",
   "metadata": {},
   "source": [
    "#환자 보호자 번호 받기"
   ]
  },
  {
   "cell_type": "code",
   "execution_count": null,
   "id": "rocky-titanium",
   "metadata": {
    "scrolled": false
   },
   "outputs": [
    {
     "name": "stdout",
     "output_type": "stream",
     "text": [
      "환자 보호자 번호를 입력해주세요.ex)010-0000-0000 :010-4222-3644\n",
      "010 - **** - 3644\n"
     ]
    }
   ],
   "source": [
    "for i in range(1, 101) :\n",
    "    phone = input(\"환자 보호자 번호를 입력해주세요.ex)010-0000-0000 :\")\n",
    "    print(\"010\", \"- **** -\", phone.split(\"-\")[2].strip())"
   ]
  },
  {
   "cell_type": "code",
   "execution_count": null,
   "id": "contemporary-massage",
   "metadata": {},
   "outputs": [],
   "source": [
    "import datetime as pydatetime  #현재시간을 1970년 1.1이 0.0이라 잡아 표현\n",
    "def get_now() :\n",
    "    return pydatetime.datetime.now()\n",
    "\n",
    "painkiller = input(\"아프면 아무말이나 치세요 : \")\n",
    "if len(painkiller) > 0 :\n",
    "    a = get_now()\n",
    "    print(\"진통제가 투여되었습니다.\", get_now())\n",
    "elif len(painkiller) > 0 and gen_now() < a + 30\n",
    "    print(\"쿨타임\")\n",
    "else : pass\n",
    "\n",
    "# 이 코드는 작동하지 않습니다. 쿨타임 어떻게 해야할깡?"
   ]
  }
 ],
 "metadata": {
  "kernelspec": {
   "display_name": "Python 3",
   "language": "python",
   "name": "python3"
  },
  "language_info": {
   "codemirror_mode": {
    "name": "ipython",
    "version": 3
   },
   "file_extension": ".py",
   "mimetype": "text/x-python",
   "name": "python",
   "nbconvert_exporter": "python",
   "pygments_lexer": "ipython3",
   "version": "3.9.1"
  }
 },
 "nbformat": 4,
 "nbformat_minor": 5
}
