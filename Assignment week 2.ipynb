{
 "cells": [
  {
   "cell_type": "markdown",
   "metadata": {},
   "source": [
    "## 문제 1번  \n",
    "### 당신은 화상병동에 근무하는 의료진입니다. 일을 더 효율적으로 하고 싶어하는 열정적인 당신은 병동을 위해 몇 가지 프로그램을 만들기로 결심했습니다. 다음 기능을 지원하는 상위 클래스(Burn)를 만들고, 화상 범위 20% 이상의 환자에게 여러 기능을 더 지원하는 하위 클래스(Severe)를 만들어 주세요. \n",
    "\n",
    "클래스 Initializer에 이름, 나이, 퍼센트(화상범위)를 파라미터로 사용해주세요.\n",
    "\n",
    "#### 상위 클래스 기능\n",
    "-  환자를 목록에 추가하고 목록 보여주기\n",
    "-  환자 보호자 전화번호 입력받고 중간 네자리 * 처리 해서 출력하기\n",
    "  \n",
    "#### 하위 클래스 추가 기능\n",
    "-  입원 병상 배정하기. 단 다른 사람에게 배정된 병상과 겹치면 안 되며, 한 번 배정된 환자의 병실은 변하지 않음. 병상은 1번부터 100번까지 존재함.\n",
    "-  환자가 버튼을 누를 때(함수를 입력할 때)마다 진통제를 투여하기('진통제가 투여되었습니다.'출력). 단, 쿨타임 30초 있음. 30초 이내로 버튼을 누를 시 진통제 투여되지 않음.\n",
    "- 부가 기능: 환자 목록 추가 및 출력 시 중환자 옆에는 중환자임을 덧붙이기\n",
    "                                  \n",
    " \n",
    "##### 파이썬 전체 개념을 확인하는 문제이기 때문에 폭은 넓지만 난이도는 낮도록 출제했습니다. 설명 시 어려웠던 부분이나 설명하고 싶은 부분만 설명해 주세요."
   ]
  },
  {
   "cell_type": "code",
   "execution_count": 1,
   "metadata": {},
   "outputs": [],
   "source": [
    "      "
   ]
  },
  {
   "cell_type": "markdown",
   "metadata": {},
   "source": [
    "출력 예시"
   ]
  },
  {
   "cell_type": "code",
   "execution_count": 6,
   "metadata": {},
   "outputs": [
    {
     "name": "stdout",
     "output_type": "stream",
     "text": [
      "Num 이름   나이 범위\n",
      "1   김하나 21   11 % \n",
      "2   이두리 25   40 % 중환자\n",
      "3   박석삼 26   16 % \n",
      "4   최사나 35   23 % 중환자\n",
      "5   한오름 45   5 % \n",
      "010-****-2114\n",
      "이두리환자에게 33번 병상을 배정해 주세요.\n",
      "최사나환자에게 81번 병상을 배정해 주세요.\n"
     ]
    }
   ],
   "source": [
    "a=Burn('김하나',21,11)\n",
    "b=Severe('이두리',25,40)\n",
    "c=Burn('박석삼',26,16)\n",
    "d=Severe('최사나',35,23)\n",
    "e=Burn('한오름',45,5)\n",
    "\n",
    "e.addpatient() #a부터 e까지 addpatient()를 시행한 결과입니다.\n",
    "a.phone('010-2256-2114')\n",
    "b.assign()\n",
    "d.assign()\n",
    "d.painkiller() #쿨타임 30초가 지나지 않아 진통제가 투여되지 않았습니다.(미출력)"
   ]
  },
  {
   "cell_type": "markdown",
   "metadata": {},
   "source": [
    "## 문제 2번\n",
    "### 서울대생 한나는 고1인 두리에게 영어를 가르치고 있다. 그런데 한나는 과외 학생이 심하게 영어를 못하자 고민에 빠졌다. 그래서 한나는 영어 문장과 알파벳을 주고, 이 알파벳이 문장에서 각각 몇 번 나오는지 맞추는 문제를 주었다. \n",
    "### 비록 영어는 못하지만 마이스터고 학생이었던 두리는 한나의 기대를 충족시키기 위해 한나가 내주는 문제의 답을 출력하는 프로그램을 짜려고 한다. 두리가 되어 프로그램을 짜보자!"
   ]
  },
  {
   "cell_type": "code",
   "execution_count": 7,
   "metadata": {
    "scrolled": true
   },
   "outputs": [
    {
     "name": "stdout",
     "output_type": "stream",
     "text": [
      "문장과 알파벳을 입력하세요.>I Like Lily. lovely flower.,l\n",
      "6\n"
     ]
    }
   ],
   "source": []
  }
 ],
 "metadata": {
  "kernelspec": {
   "display_name": "Python 3",
   "language": "python",
   "name": "python3"
  },
  "language_info": {
   "codemirror_mode": {
    "name": "ipython",
    "version": 3
   },
   "file_extension": ".py",
   "mimetype": "text/x-python",
   "name": "python",
   "nbconvert_exporter": "python",
   "pygments_lexer": "ipython3",
   "version": "3.8.5"
  }
 },
 "nbformat": 4,
 "nbformat_minor": 4
}
