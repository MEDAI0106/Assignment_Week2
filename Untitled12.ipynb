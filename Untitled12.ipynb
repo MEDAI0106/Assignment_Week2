{
 "cells": [
  {
   "cell_type": "code",
   "execution_count": 2,
   "metadata": {},
   "outputs": [
    {
     "name": "stdout",
     "output_type": "stream",
     "text": [
      "강한나 21 11\n",
      "이두리 25 40 중환자\n",
      "박석삼 26 16\n",
      "최사나 35 23 중환자\n",
      "한오름 45 5\n",
      "010-****-8333\n",
      "최사나 98 방을 배정해주세요.\n",
      "최사나 20 방을 배정해주세요.\n",
      "진통제\n"
     ]
    }
   ],
   "source": [
    "class patients:\n",
    "    def __init__(self, name, age, percent):\n",
    "        self.name = name\n",
    "        self.age = age\n",
    "        self.percent = percent\n",
    "\n",
    "list1 = patients('강한나', 21, 11)\n",
    "list2 = patients('이두리', 25, 40)\n",
    "list3 = patients('박석삼', 26, 16)\n",
    "list4 = patients('최사나', 35, 23)\n",
    "list5 = patients('한오름', 45, 5)\n",
    "listoflists = [list1, list2, list3, list4, list5 ]\n",
    "\n",
    "for list_ in listoflists:\n",
    "    if list_.percent >= 20:\n",
    "        print( list_.name, list_.age, list_.percent,'중환자', sep=' ')\n",
    "    else:\n",
    "        print( list_.name, list_.age, list_.percent, sep=' ')\n",
    "\n",
    "a = '010-6790-8333'\n",
    "b = a[0:4] + '****' + a[-5:]\n",
    "print (b)\n",
    "\n",
    "import random\n",
    "class hospital(patients):\n",
    "    def __init__(self, name, percent):\n",
    "        self.name = name\n",
    "        self.percent = percent\n",
    "list1 = patients('강한나', 21, 11)\n",
    "list2 = patients('이두리', 25, 40)\n",
    "list3 = patients('박석삼', 26, 16)\n",
    "list4 = patients('최사나', 35, 23)\n",
    "list5 = patients('한오름', 45, 5)\n",
    "listoflists = [list1, list2, list3, list4, list5 ]\n",
    "\n",
    "for list_ in listoflists:\n",
    "    if list_.percent >= 20:\n",
    "        c = list_.name\n",
    "        d = list_.name\n",
    "        d != c\n",
    "           \n",
    "import random\n",
    "numlist = list(range(101))\n",
    "num1 = random.randrange(1, 101)\n",
    "del numlist[num1]\n",
    "print ( c, num1, \"방을 배정해주세요.\")\n",
    "num2 = random.randrange(1, 101)\n",
    "print ( d, num2, \"방을 배정해주세요.\")\n",
    "\n",
    "import time\n",
    "print(\"진통제\")\n",
    "\n",
    "time.sleep(30)"
   ]
  },
  {
   "cell_type": "code",
   "execution_count": 1,
   "metadata": {},
   "outputs": [
    {
     "name": "stdout",
     "output_type": "stream",
     "text": [
      "문장을 입력해주세요.python help me\n",
      "알파벳을 입력해주세요h\n",
      "2\n"
     ]
    }
   ],
   "source": [
    "string = input(\"문장을 입력해주세요.\")\n",
    "letter = input(\"알파벳을 입력해주세요\")\n",
    "\n",
    "count = 0\n",
    "for i in string: \n",
    "    if i == letter: \n",
    "        count = count + 1\n",
    "print (count)"
   ]
  }
 ],
 "metadata": {
  "kernelspec": {
   "display_name": "Python 3",
   "language": "python",
   "name": "python3"
  },
  "language_info": {
   "codemirror_mode": {
    "name": "ipython",
    "version": 3
   },
   "file_extension": ".py",
   "mimetype": "text/x-python",
   "name": "python",
   "nbconvert_exporter": "python",
   "pygments_lexer": "ipython3",
   "version": "3.9.1"
  }
 },
 "nbformat": 4,
 "nbformat_minor": 4
}
