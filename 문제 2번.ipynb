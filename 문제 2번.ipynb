{
 "cells": [
  {
   "cell_type": "markdown",
   "id": "armed-shipping",
   "metadata": {},
   "source": [
    "문제 2번\n",
    "서울대생 한나는 고1인 두리에게 영어를 가르치고 있다. 그런데 한나는 과외 학생이 심하게 영어를 못하자 고민에 빠졌다. 그래서 한나는 영어 문장과 알파벳을 주고, 이 알파벳이 문장에서 각각 몇 번 나오는지 맞추는 문제를 주었다.\n",
    "비록 영어는 못하지만 마이스터고 학생이었던 두리는 한나의 기대를 충족시키기 위해 한나가 내주는 문제의 답을 출력하는 프로그램을 짜려고 한다. 두리가 되어 프로그램을 짜보자!\n",
    "\n",
    "출력 예시)\n",
    "문장과 알파벳을 입력하세요.>I Like Lily. lovely flower.,l\n",
    "6"
   ]
  },
  {
   "cell_type": "code",
   "execution_count": 4,
   "id": "sporting-ceremony",
   "metadata": {
    "scrolled": true
   },
   "outputs": [
    {
     "name": "stdout",
     "output_type": "stream",
     "text": [
      "문장과 알파벳을 입력하세요: hwang yeon woo,h\n"
     ]
    },
    {
     "data": {
      "text/plain": [
       "1"
      ]
     },
     "execution_count": 4,
     "metadata": {},
     "output_type": "execute_result"
    }
   ],
   "source": [
    "sentence, alphabet = str(input(\"문장과 알파벳을 입력하세요: \")).split(\",\")\n",
    "sentence.count(alphabet.strip())"
   ]
  },
  {
   "cell_type": "code",
   "execution_count": null,
   "id": "vulnerable-debut",
   "metadata": {},
   "outputs": [],
   "source": []
  }
 ],
 "metadata": {
  "kernelspec": {
   "display_name": "Python 3",
   "language": "python",
   "name": "python3"
  },
  "language_info": {
   "codemirror_mode": {
    "name": "ipython",
    "version": 3
   },
   "file_extension": ".py",
   "mimetype": "text/x-python",
   "name": "python",
   "nbconvert_exporter": "python",
   "pygments_lexer": "ipython3",
   "version": "3.9.1"
  }
 },
 "nbformat": 4,
 "nbformat_minor": 5
}
