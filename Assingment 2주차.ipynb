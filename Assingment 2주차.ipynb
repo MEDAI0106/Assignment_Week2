{
 "cells": [
  {
   "cell_type": "code",
   "execution_count": 40,
   "metadata": {
    "scrolled": false
   },
   "outputs": [
    {
     "name": "stdout",
     "output_type": "stream",
     "text": [
      "이름: 한오름 나이:45 범위:5\n",
      "010-****-2114\n",
      "이두리 환자에게 11번 병상을 배정해 주세요.\n",
      "최사나 환자에게 24번 병상을 배정해 주세요.\n",
      "진통제가 투여되었습니다.\n"
     ]
    }
   ],
   "source": [
    "list = [] \n",
    "class Burn:\n",
    "       \n",
    "    \n",
    "    def __init__(self, name, age, percent):\n",
    "        self.name = name\n",
    "        self.age = age\n",
    "        self.percent = percent\n",
    "        \n",
    "  \n",
    "    def addpatient(self):\n",
    "        list.append(Burn('self.name', 'self.age', 'self.percent'))\n",
    "        print('이름: %s 나이:%s 범위:%s' % (self.name, self.age, self.percent))\n",
    "                \n",
    "    def phone(self,phone_number):\n",
    "        result = \" \"\n",
    "        result = phone_number[:3]+\"-\"+\"****\" +\"-\"+ phone_number[-4:]\n",
    "        print(result)\n",
    "                  \n",
    "class Severe(Burn):\n",
    "    def addpatient(self):\n",
    "        list.append(Burn('self.name', 'self.age', 'self.percent'))\n",
    "        print('이름: %s 나이:%s 범위:%s 중환자' % (self.name, self.age, self.percent))\n",
    "    \n",
    "    \n",
    "    def assign(self):\n",
    "        import random\n",
    "        numberlist = []\n",
    "        patient_number = random.randint(1, 101)\n",
    "        \n",
    "        for i in range(101):\n",
    "            while patient_number in numberlist:\n",
    "                patient_number = random.randing(1, 101)\n",
    "        print(\"%s 환자에게 %s번 병상을 배정해 주세요.\" % (self.name, patient_number))\n",
    "        \n",
    "    def painkiller(self):\n",
    "        import time\n",
    "        \n",
    "        print(\"진통제가 투여되었습니다.\")\n",
    "        time.sleep(1) # 1 -> 30\n",
    "         \n",
    "\n",
    "\n",
    "a = Burn('김하나',21,11)\n",
    "b=Severe('이두리',25,40)\n",
    "c = Burn('박석삼',26,16)\n",
    "d=Severe('최사나',35,23)\n",
    "e=Burn('한오름',45,5)\n",
    "\n",
    "e.addpatient() # a부터 e까지 환자 목록 만들기 실패\n",
    "a.phone('010-2256-2114')\n",
    "b.assign()\n",
    "d.assign()\n",
    "b.painkiller()            \n",
    "        "
   ]
  },
  {
   "cell_type": "code",
   "execution_count": 43,
   "metadata": {},
   "outputs": [
    {
     "name": "stdout",
     "output_type": "stream",
     "text": [
      "문장과 알파벳을 입력하세요.I Like Lily. lovely flower.,l\n",
      "6\n"
     ]
    }
   ],
   "source": [
    "import re\n",
    "\n",
    "sentence, alpabet = input('문장과 알파벳을 입력하세요.').split(',')\n",
    "\n",
    "result1 = re.compile(alpabet, re.I)\n",
    "result2 = result1.findall(sentence)\n",
    "result = len(result2)\n",
    "print(result)"
   ]
  }
 ],
 "metadata": {
  "kernelspec": {
   "display_name": "Python 3",
   "language": "python",
   "name": "python3"
  },
  "language_info": {
   "codemirror_mode": {
    "name": "ipython",
    "version": 3
   },
   "file_extension": ".py",
   "mimetype": "text/x-python",
   "name": "python",
   "nbconvert_exporter": "python",
   "pygments_lexer": "ipython3",
   "version": "3.8.5"
  }
 },
 "nbformat": 4,
 "nbformat_minor": 4
}
